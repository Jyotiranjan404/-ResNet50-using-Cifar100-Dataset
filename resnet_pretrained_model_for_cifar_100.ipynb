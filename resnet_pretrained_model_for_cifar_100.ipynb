{
  "nbformat": 4,
  "nbformat_minor": 0,
  "metadata": {
    "colab": {
      "name": "resnet pretrained model for cifar 100.ipynb",
      "provenance": []
    },
    "kernelspec": {
      "name": "python3",
      "display_name": "Python 3"
    },
    "language_info": {
      "name": "python"
    },
    "accelerator": "GPU"
  },
  "cells": [
    {
      "cell_type": "code",
      "metadata": {
        "id": "lWKSeM9V9Mh1"
      },
      "source": [
        "from tensorflow.keras.applications.resnet50 import ResNet50, preprocess_input\n",
        "import tensorflow.keras as keras\n",
        "from tensorflow.keras.models import Model, Sequential\n",
        "from tensorflow.keras.layers import Input, UpSampling2D, Flatten, BatchNormalization, Dense, Dropout, GlobalAveragePooling2D, Conv2D\n",
        "from tensorflow.keras import optimizers\n",
        "from keras.datasets import cifar100\n",
        "import tensorflow as tf\n",
        "from keras.utils import np_utils\n",
        "import numpy as np\n",
        "import matplotlib.pyplot as plt\n",
        "import time\n",
        "from skimage.transform import resize\n",
        "from keras.preprocessing.image import ImageDataGenerator"
      ],
      "execution_count": null,
      "outputs": []
    },
    {
      "cell_type": "code",
      "metadata": {
        "id": "qivBIVQGAZ53"
      },
      "source": [
        "def get_random_eraser(p=0.5, s_l=0.02, s_h=0.4, r_1=0.3, r_2=1/0.3, v_l=0, v_h=255, pixel_level=False):\n",
        "    def eraser(input_img):\n",
        "        img_h, img_w, img_c = input_img.shape\n",
        "        p_1 = np.random.rand()\n",
        "\n",
        "        if p_1 > p:\n",
        "            return input_img\n",
        "\n",
        "        while True:\n",
        "            s = np.random.uniform(s_l, s_h) * img_h * img_w\n",
        "            r = np.random.uniform(r_1, r_2)\n",
        "            w = int(np.sqrt(s / r))\n",
        "            h = int(np.sqrt(s * r))\n",
        "            left = np.random.randint(0, img_w)\n",
        "            top = np.random.randint(0, img_h)\n",
        "\n",
        "            if left + w <= img_w and top + h <= img_h:\n",
        "                break\n",
        "\n",
        "        if pixel_level:\n",
        "            c = np.random.uniform(v_l, v_h, (h, w, img_c))\n",
        "        else:\n",
        "            c = np.random.uniform(v_l, v_h)\n",
        "\n",
        "        input_img[top:top + h, left:left + w, :] = c\n",
        "\n",
        "        return input_img\n",
        "\n",
        "    return eraser"
      ],
      "execution_count": null,
      "outputs": []
    },
    {
      "cell_type": "code",
      "metadata": {
        "id": "UJHSo_LbA6jx",
        "colab": {
          "base_uri": "https://localhost:8080/"
        },
        "outputId": "c1714657-66f9-4068-eefe-f3c9abcd541c"
      },
      "source": [
        "num_classes = 100\n",
        "nb_epochs = 10\n",
        "\n",
        "(x_train, y_train), (x_test, y_test) = cifar100.load_data()\n",
        "\n",
        "#Pre-process the data\n",
        "x_train = preprocess_input(x_train)\n",
        "x_test = preprocess_input(x_test)\n",
        "\n",
        "datagen = ImageDataGenerator(preprocessing_function=get_random_eraser(v_l=0, v_h=1, pixel_level=True))\n",
        "datagen.fit(x_train)"
      ],
      "execution_count": null,
      "outputs": [
        {
          "output_type": "stream",
          "text": [
            "Downloading data from https://www.cs.toronto.edu/~kriz/cifar-100-python.tar.gz\n",
            "169009152/169001437 [==============================] - 11s 0us/step\n",
            "169017344/169001437 [==============================] - 11s 0us/step\n"
          ],
          "name": "stdout"
        }
      ]
    },
    {
      "cell_type": "code",
      "metadata": {
        "id": "PqI-epWZA6ho"
      },
      "source": [
        "y_train = np_utils.to_categorical(y_train, num_classes)\n",
        "y_test = np_utils.to_categorical(y_test, num_classes)"
      ],
      "execution_count": null,
      "outputs": []
    },
    {
      "cell_type": "code",
      "metadata": {
        "id": "9JTIkLaLA6fG",
        "colab": {
          "base_uri": "https://localhost:8080/"
        },
        "outputId": "920ac821-d683-4cc8-87c7-39b14a498f62"
      },
      "source": [
        "resnet_model = ResNet50(weights='imagenet', include_top=False, input_shape=(256, 256, 3))"
      ],
      "execution_count": null,
      "outputs": [
        {
          "output_type": "stream",
          "text": [
            "Downloading data from https://storage.googleapis.com/tensorflow/keras-applications/resnet/resnet50_weights_tf_dim_ordering_tf_kernels_notop.h5\n",
            "94773248/94765736 [==============================] - 4s 0us/step\n",
            "94781440/94765736 [==============================] - 4s 0us/step\n"
          ],
          "name": "stdout"
        }
      ]
    },
    {
      "cell_type": "code",
      "metadata": {
        "id": "Rz-wBJMzKuaU"
      },
      "source": [
        "for layer in resnet_model.layers:\n",
        "    if isinstance(layer, BatchNormalization):\n",
        "        layer.trainable = True\n",
        "    else:\n",
        "        layer.trainable = False\n",
        "\n",
        "model = Sequential()\n",
        "model.add(UpSampling2D())\n",
        "model.add(UpSampling2D())\n",
        "model.add(UpSampling2D())\n",
        "model.add(resnet_model)\n",
        "model.add(GlobalAveragePooling2D())\n",
        "model.add(Dense(256, activation='relu'))\n",
        "model.add(Dropout(.25))\n",
        "model.add(BatchNormalization())\n",
        "model.add(Dense(num_classes, activation='softmax'))"
      ],
      "execution_count": null,
      "outputs": []
    },
    {
      "cell_type": "code",
      "metadata": {
        "id": "yKtICgAbA6cv"
      },
      "source": [
        "model.compile(loss='categorical_crossentropy',optimizer='adam',metrics=['accuracy'])"
      ],
      "execution_count": null,
      "outputs": []
    },
    {
      "cell_type": "code",
      "metadata": {
        "id": "hNDhpQyVA6aG",
        "colab": {
          "base_uri": "https://localhost:8080/"
        },
        "outputId": "b03bdbf4-e0a9-4099-a5bd-36f2deadfe6b"
      },
      "source": [
        "#from keras.callbacks import ModelCheckpoint, LearningRateScheduler\n",
        "\n",
        "#checkpoint = ModelCheckpoint(filepath='mymodel.h5', \n",
        "#                               verbose=1, save_best_only=True)\n",
        "t=time.time()\n",
        "\n",
        "history = model.fit_generator(datagen.flow(x_train, y_train,batch_size=64),\n",
        "                              steps_per_epoch=x_train.shape[0] // 64,epochs=5,\n",
        "                              validation_data=(x_test, y_test))\n",
        "print('Training time: %s' % (t - time.time()))"
      ],
      "execution_count": null,
      "outputs": [
        {
          "output_type": "stream",
          "text": [
            "/usr/local/lib/python3.7/dist-packages/keras/engine/training.py:1972: UserWarning: `Model.fit_generator` is deprecated and will be removed in a future version. Please use `Model.fit`, which supports generators.\n",
            "  warnings.warn('`Model.fit_generator` is deprecated and '\n"
          ],
          "name": "stderr"
        },
        {
          "output_type": "stream",
          "text": [
            "Epoch 1/5\n",
            "781/781 [==============================] - 1012s 1s/step - loss: 2.0190 - accuracy: 0.4815 - val_loss: 1.0208 - val_accuracy: 0.7006\n",
            "Epoch 2/5\n",
            "781/781 [==============================] - 1003s 1s/step - loss: 1.1546 - accuracy: 0.6667 - val_loss: 0.8399 - val_accuracy: 0.7489\n",
            "Epoch 3/5\n",
            "781/781 [==============================] - 997s 1s/step - loss: 0.9794 - accuracy: 0.7104 - val_loss: 0.7948 - val_accuracy: 0.7589\n",
            "Epoch 4/5\n",
            "781/781 [==============================] - 997s 1s/step - loss: 0.8728 - accuracy: 0.7402 - val_loss: 0.7463 - val_accuracy: 0.7745\n",
            "Epoch 5/5\n",
            "781/781 [==============================] - 996s 1s/step - loss: 0.8025 - accuracy: 0.7590 - val_loss: 0.7662 - val_accuracy: 0.7751\n",
            "Training time: -5079.005810022354\n"
          ],
          "name": "stdout"
        }
      ]
    },
    {
      "cell_type": "markdown",
      "metadata": {
        "id": "vKv51tXZMaRc"
      },
      "source": [
        ""
      ]
    }
  ]
}